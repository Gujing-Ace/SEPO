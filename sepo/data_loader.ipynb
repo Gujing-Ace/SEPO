{
 "cells": [
  {
   "cell_type": "code",
   "execution_count": 1,
   "metadata": {},
   "outputs": [],
   "source": [
    "import os\n",
    "import sys\n",
    "sys.path.append(os.path.abspath('/mnt/e/Projects/Qwen2-VL-Finetune'))\n",
    "\n",
    "from src.train.data import make_dpo_data_module, DPODataset\n",
    "from src.train.params import DataArguments, ModelArguments, DPOArguments\n",
    "from transformers import AutoProcessor, HfArgumentParser\n",
    "from dataclasses import dataclass, field\n",
    "from typing import Optional"
   ]
  },
  {
   "cell_type": "code",
   "execution_count": 6,
   "metadata": {},
   "outputs": [
    {
     "data": {
      "text/plain": [
       "(ModelArguments(model_id='/mnt/e/Projects/Qwen2-VL-Finetune/sepo/models/Qwen2.5-VL-3B-Instruct'),\n",
       " DataArguments(data_path='/mnt/e/Projects/Qwen2-VL-Finetune/sepo/data/RLAIF_Sample/DPO_format_for_Qwen/dpo.json', lazy_preprocess=True, image_folder='/mnt/e/Projects/Qwen2-VL-Finetune/sepo/data/RLAIF_Sample/DPO_format_for_Qwen/images', image_min_pixels=401408, image_max_pixels=1003520, video_min_pixels=100352, video_max_pixels=602112, image_resized_width=None, image_resized_height=None, video_resized_width=None, video_resized_height=None, fps=1.0),\n",
       " DPOArguments(output_dir='output/test_dpo', overwrite_output_dir=False, do_train=False, do_eval=False, do_predict=False, eval_strategy=<IntervalStrategy.NO: 'no'>, prediction_loss_only=False, per_device_train_batch_size=4, per_device_eval_batch_size=8, per_gpu_train_batch_size=None, per_gpu_eval_batch_size=None, gradient_accumulation_steps=4, eval_accumulation_steps=None, eval_delay=0, torch_empty_cache_steps=None, learning_rate=1e-05, weight_decay=0.1, adam_beta1=0.9, adam_beta2=0.999, adam_epsilon=1e-08, max_grad_norm=1.0, num_train_epochs=1.0, max_steps=-1, lr_scheduler_type=<SchedulerType.COSINE: 'cosine'>, lr_scheduler_kwargs={}, warmup_ratio=0.03, warmup_steps=0, log_level='passive', log_level_replica='warning', log_on_each_node=True, logging_dir='output/test_dpo/runs/May06_16-22-20_AC0', logging_strategy=<IntervalStrategy.STEPS: 'steps'>, logging_first_step=False, logging_steps=1.0, logging_nan_inf_filter=True, save_strategy=<SaveStrategy.STEPS: 'steps'>, save_steps=200, save_total_limit=10, save_safetensors=True, save_on_each_node=False, save_only_model=False, restore_callback_states_from_checkpoint=False, no_cuda=False, use_cpu=False, use_mps_device=False, seed=42, data_seed=None, jit_mode_eval=False, use_ipex=False, bf16=True, fp16=False, fp16_opt_level='O1', half_precision_backend='auto', bf16_full_eval=False, fp16_full_eval=False, tf32=True, local_rank=0, ddp_backend=None, tpu_num_cores=None, tpu_metrics_debug=False, debug=[], dataloader_drop_last=False, eval_steps=None, dataloader_num_workers=4, dataloader_prefetch_factor=None, past_index=-1, run_name='output/test_dpo', disable_tqdm=False, remove_unused_columns=False, label_names=None, load_best_model_at_end=False, metric_for_best_model=None, greater_is_better=None, ignore_data_skip=False, fsdp=[], fsdp_min_num_params=0, fsdp_config={'min_num_params': 0, 'xla': False, 'xla_fsdp_v2': False, 'xla_fsdp_grad_ckpt': False}, tp_size=0, fsdp_transformer_layer_cls_to_wrap=None, accelerator_config=AcceleratorConfig(split_batches=False, dispatch_batches=None, even_batches=True, use_seedable_sampler=True, non_blocking=False, gradient_accumulation_kwargs=None, use_configured_state=False), deepspeed=None, label_smoothing_factor=0.0, optim=<OptimizerNames.ADAMW_TORCH: 'adamw_torch'>, optim_args=None, adafactor=False, group_by_length=False, length_column_name='length', report_to=['tensorboard'], ddp_find_unused_parameters=None, ddp_bucket_cap_mb=None, ddp_broadcast_buffers=None, dataloader_pin_memory=True, dataloader_persistent_workers=False, skip_memory_metrics=True, use_legacy_prediction_loop=False, push_to_hub=False, resume_from_checkpoint=None, hub_model_id=None, hub_strategy=<HubStrategy.EVERY_SAVE: 'every_save'>, hub_token=None, hub_private_repo=None, hub_always_push=False, gradient_checkpointing=True, gradient_checkpointing_kwargs=None, include_inputs_for_metrics=False, include_for_metrics=[], eval_do_concat_batches=True, fp16_backend='auto', evaluation_strategy=None, push_to_hub_model_id=None, push_to_hub_organization=None, push_to_hub_token=None, mp_parameters='', auto_find_batch_size=False, full_determinism=False, torchdynamo=None, ray_scope='last', ddp_timeout=1800, torch_compile=False, torch_compile_backend=None, torch_compile_mode=None, dispatch_batches=None, split_batches=None, include_tokens_per_second=False, include_num_input_tokens_seen=False, neftune_noise_alpha=None, optim_target_modules=None, batch_eval_metrics=False, eval_on_start=False, use_liger_kernel=False, eval_use_gather_object=False, average_tokens_across_devices=False, model_init_kwargs=None, ref_model_init_kwargs=None, model_adapter_name=None, ref_adapter_name=None, force_use_ref_model=False, disable_dropout=True, use_logits_to_keep=False, dataset_num_proc=None, padding_value=None, label_pad_token_id=-100, max_prompt_length=512, max_completion_length=None, max_length=1024, truncation_mode='keep_end', padding_free=False, precompute_ref_log_probs=False, precompute_ref_batch_size=None, tools=None, loss_type='sigmoid', beta=0.1, f_divergence_type=<FDivergenceType.REVERSE_KL: 'reverse_kl'>, f_alpha_divergence_coef=1.0, reference_free=False, label_smoothing=0.0, use_weighting=False, rpo_alpha=None, discopop_tau=0.05, sync_ref_model=False, ref_model_mixup_alpha=0.6, ref_model_sync_steps=512, generate_during_eval=False, use_num_logits_to_keep=None, cache_dir=None, freeze_vision_tower=False, freeze_llm=False, freeze_merger=False, disable_flash_attn2=False, max_seq_length=32768, double_quant=True, quant_type='nf4', bits=16, lora_enable=False, vision_lora=False, use_dora=False, lora_rank=64, lora_alpha=16, lora_dropout=0.05, lora_weight_path='', lora_bias='none', vision_lr=2e-06, merger_lr=1e-05, lora_namespan_exclude=None, num_lora_modules=-1, use_liger=True, dpo_loss='sigmoid'))"
      ]
     },
     "execution_count": 6,
     "metadata": {},
     "output_type": "execute_result"
    }
   ],
   "source": [
    "model_id = \"/mnt/e/Projects/Qwen2-VL-Finetune/sepo/models/Qwen2.5-VL-3B-Instruct\"\n",
    "parser = HfArgumentParser(\n",
    "    (ModelArguments, DataArguments, DPOArguments))\n",
    "\n",
    "args_list = [\n",
    "    \"--dpo_loss\", \"sigmoid\",\n",
    "    \"--precompute_ref_log_probs\", \"False\",\n",
    "    \"--beta\", \"0.1\",\n",
    "    \"--use_liger\", \"True\",\n",
    "    \"--model_id\", \"/mnt/e/Projects/Qwen2-VL-Finetune/sepo/models/Qwen2.5-VL-3B-Instruct\",  # 替换 $MODEL_NAME 为实际值\n",
    "    \"--data_path\", \"/mnt/e/Projects/Qwen2-VL-Finetune/sepo/data/RLAIF_Sample/DPO_format_for_Qwen/dpo.json\",\n",
    "    \"--image_folder\", \"/mnt/e/Projects/Qwen2-VL-Finetune/sepo/data/RLAIF_Sample/DPO_format_for_Qwen/images\",\n",
    "    \"--remove_unused_columns\", \"False\",\n",
    "    \"--freeze_vision_tower\", \"False\",\n",
    "    \"--freeze_llm\", \"False\",\n",
    "    \"--freeze_merger\", \"False\",\n",
    "    \"--bf16\", \"True\",\n",
    "    \"--fp16\", \"False\",\n",
    "    \"--disable_flash_attn2\", \"False\",\n",
    "    \"--output_dir\", \"output/test_dpo\",\n",
    "    \"--num_train_epochs\", \"1\",\n",
    "    \"--per_device_train_batch_size\", \"4\",  # 替换 $BATCH_PER_DEVICE 为实际值\n",
    "    \"--gradient_accumulation_steps\", \"4\",  # 替换 $GRAD_ACCUM_STEPS 为实际值\n",
    "    \"--image_min_pixels\", str(512 * 28 * 28),\n",
    "    \"--image_max_pixels\", str(1280 * 28 * 28),\n",
    "    \"--learning_rate\", \"1e-5\",\n",
    "    \"--merger_lr\", \"1e-5\",\n",
    "    \"--vision_lr\", \"2e-6\",\n",
    "    \"--weight_decay\", \"0.1\",\n",
    "    \"--warmup_ratio\", \"0.03\",\n",
    "    \"--lr_scheduler_type\", \"cosine\",\n",
    "    \"--logging_steps\", \"1\",\n",
    "    \"--tf32\", \"True\",\n",
    "    \"--gradient_checkpointing\", \"True\",\n",
    "    \"--report_to\", \"tensorboard\",\n",
    "    \"--lazy_preprocess\", \"True\",\n",
    "    \"--save_strategy\", \"steps\",\n",
    "    \"--save_steps\", \"200\",\n",
    "    \"--save_total_limit\", \"10\",\n",
    "    \"--dataloader_num_workers\", \"4\"\n",
    "]\n",
    "\n",
    "model_args, data_args, training_args = parser.parse_args_into_dataclasses(args_list)\n",
    "model_args, data_args, training_args"
   ]
  },
  {
   "cell_type": "code",
   "execution_count": 7,
   "metadata": {},
   "outputs": [],
   "source": [
    "processor = AutoProcessor.from_pretrained(model_id)\n",
    "dataset_module = make_dpo_data_module(\n",
    "    model_id=model_id,\n",
    "    processor=processor,\n",
    "    data_args=data_args\n",
    ")"
   ]
  },
  {
   "cell_type": "code",
   "execution_count": 9,
   "metadata": {},
   "outputs": [
    {
     "data": {
      "text/plain": [
       "<src.train.data.DPODataset at 0x7ff3ab39eec0>"
      ]
     },
     "execution_count": 9,
     "metadata": {},
     "output_type": "execute_result"
    }
   ],
   "source": [
    "dataset_module['train_dataset']"
   ]
  },
  {
   "cell_type": "code",
   "execution_count": null,
   "metadata": {},
   "outputs": [],
   "source": []
  },
  {
   "cell_type": "code",
   "execution_count": null,
   "metadata": {},
   "outputs": [],
   "source": []
  },
  {
   "cell_type": "code",
   "execution_count": null,
   "metadata": {},
   "outputs": [],
   "source": []
  },
  {
   "cell_type": "code",
   "execution_count": null,
   "metadata": {},
   "outputs": [],
   "source": []
  }
 ],
 "metadata": {
  "kernelspec": {
   "display_name": "qwen2",
   "language": "python",
   "name": "qwen2"
  },
  "language_info": {
   "codemirror_mode": {
    "name": "ipython",
    "version": 3
   },
   "file_extension": ".py",
   "mimetype": "text/x-python",
   "name": "python",
   "nbconvert_exporter": "python",
   "pygments_lexer": "ipython3",
   "version": "3.10.14"
  }
 },
 "nbformat": 4,
 "nbformat_minor": 4
}
